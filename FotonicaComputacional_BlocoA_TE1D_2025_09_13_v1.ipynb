{
  "nbformat": 4,
  "nbformat_minor": 0,
  "metadata": {
    "colab": {
      "provenance": [],
      "authorship_tag": "ABX9TyOkfOl7RFJ7xCcIAWLayF2l",
      "include_colab_link": true
    },
    "kernelspec": {
      "name": "python3",
      "display_name": "Python 3"
    },
    "language_info": {
      "name": "python"
    }
  },
  "cells": [
    {
      "cell_type": "markdown",
      "metadata": {
        "id": "view-in-github",
        "colab_type": "text"
      },
      "source": [
        "<a href=\"https://colab.research.google.com/github/thallescotta/fotonica-computacional-uff-2025-2/blob/main/FotonicaComputacional_BlocoA_TE1D_2025_09_13_v1.ipynb\" target=\"_parent\"><img src=\"https://colab.research.google.com/assets/colab-badge.svg\" alt=\"Open In Colab\"/></a>"
      ]
    },
    {
      "cell_type": "markdown",
      "source": [
        "<!-- Imagem alinhada à esquerda -->\n",
        "<p align=\"left\">\n",
        "  <img src=\"https://encrypted-tbn0.gstatic.com/images?q=tbn:ANd9GcSHYOnIACPcb9bCeQQ_wbfF9mp5ADlbCIoghtDM6YiLklaBrtEsAxZ-G-y6N3_PNR_tCmw&usqp=CAU\"\n",
        "       alt=\"Logo CEFET\"\n",
        "       width=\"360\">   <!-- tamanho da logo -->\n",
        "</p>\n",
        "\n",
        "# **Thalles Cotta Fontainha**  -  **PPGIO Matrícula: 2410091DIOAMA**\n",
        "\n",
        "## *\"Fotonica Analise Modal e BPM V2.pdf\"* :\n",
        "https://github.com/thallescotta/fotonica-computacional-uff-2025-2/blob/main/Fotonica%20Analise%20Modal%20e%20BPM%20V2.pdf\n",
        "recebido em 11/09/2025\n",
        "\n",
        "### **Disciplina**: Fotônica Computacional  \n",
        "**Código da disciplina:** TCE11209 - [UFF]  \n",
        "**Professor:** Andres Pablo Lopez Barbero"
      ],
      "metadata": {
        "id": "S33aJt1ZcSNm"
      }
    },
    {
      "cell_type": "markdown",
      "source": [
        "## Atividade 1 - Análise Modal (Guia Planar 1D, modos TE)\n",
        "\n",
        "**Contexto:**  \n",
        "Nesta primeira etapa estuda-se um **guia planar** em que tudo é igual nas direções **y** e **z**. Por isso, só olhamos como o campo muda ao longo de **x** — é isso que chamamos de **1D** (uma dimensão). Já **TE (Transversal Elétrico)** quer dizer que o campo elétrico é **transversal** à direção de propagação (**z**), ou seja, **não tem componente em z**.\n",
        "\n",
        "**Objetivo:**  \n",
        "Formular a equação de onda e resolver numericamente (diferenças finitas) o problema modal:\n",
        "\n",
        "$$\n",
        "\\frac{d^2 E}{dx^2} + k_0^2\\,n(x)^2\\,E = \\beta^2\\,E\n",
        "\\quad\\Longleftrightarrow\\quad\n",
        "\\left[\\frac{1}{k_0^2}\\frac{d^2}{dx^2} + n(x)^2\\right] E = n_{\\mathrm{eff}}^2 E,\\;\\;\n",
        "\\beta = k_0 n_{\\mathrm{eff}}\n",
        "$$\n",
        "\n",
        "**Pipeline:**  \n",
        "1. **Pré-processamento** – define-se n(x), λ₀, a janela e a malha Δx.  \n",
        "2. **Processamento**; [próxima etapa]\n",
        "3. **Pós-processamento**; [próxima etapa]\n",
        "\n",
        "**Caso do slide [pág. 15] :** n2 = 3.60, n1 = n3 = 3.55\n"
      ],
      "metadata": {
        "id": "4ANbnA85dUBu"
      }
    },
    {
      "cell_type": "code",
      "source": [
        "# Instala Octave e a ponte Python→Octave\n",
        "!apt-get -y install -qq octave gnuplot > /dev/null\n",
        "!pip -q install oct2py\n",
        "from oct2py import octave\n",
        "octave.eval(\"graphics_toolkit gnuplot\");  # backend headless para salvar figuras\n",
        "print(\"Octave no ar!\")"
      ],
      "metadata": {
        "colab": {
          "base_uri": "https://localhost:8080/"
        },
        "id": "ttbKVck_WeOH",
        "outputId": "7fa027c6-c72f-41c7-e360-42bf067db9a7"
      },
      "execution_count": 1,
      "outputs": [
        {
          "output_type": "stream",
          "name": "stdout",
          "text": [
            "Extracting templates from packages: 100%\n",
            "\u001b[2K   \u001b[90m━━━━━━━━━━━━━━━━━━━━━━━━━━━━━━━━━━━━━━━━\u001b[0m \u001b[32m217.8/217.8 kB\u001b[0m \u001b[31m10.4 MB/s\u001b[0m eta \u001b[36m0:00:00\u001b[0m\n",
            "\u001b[2K   \u001b[90m━━━━━━━━━━━━━━━━━━━━━━━━━━━━━━━━━━━━━━━━\u001b[0m \u001b[32m1.6/1.6 MB\u001b[0m \u001b[31m35.4 MB/s\u001b[0m eta \u001b[36m0:00:00\u001b[0m\n",
            "\u001b[?25hOctave no ar!\n"
          ]
        }
      ]
    },
    {
      "cell_type": "markdown",
      "source": [
        "## Guia de execução:\n",
        "\n",
        "Seguindo escopo da disciplina e slide da atividade, além da orientação do professor, dividi a execução em três blocos:\n",
        "\n",
        "*   **(Bloco A) Pré-processamento** (parâmetros, domínio/malha e perfil *n(x)* com camadas generalizadas),\n",
        "*   **(Bloco B) Montagem matricial** (discretização e construção das matrizes do problema modal) e\n",
        "*   **(Bloco C) Solução e análise** (autovalores/autovetores, seleção de modos e gráficos).\n",
        "\n",
        "Nesta etapa, conforme o cronograma, será executado apenas o **Bloco A**. Para isso segue alguns dados deste bloco.\n",
        "\n",
        "\n",
        "- **O que a célula acima faz? :** Prepara o ambiente para rodar **MATLAB via Octave** dentro do Colab (`octave` + `oct2py`) e ajusta o backend gráfico;\n",
        "\n",
        "- **Linguagem adotada a partir da célula seguinte:** usei **Python (NumPy/Matplotlib)** para o **Bloco A**. A lógica é a mesma dos slides e pretende ser **equivalente ao MATLAB** (mesmos passos/variáveis). Essa escolha pretende agilizar testes e depuração no Google Colab;\n",
        "\n",
        "- **O que será feito na célula abaixo? :** defini-se parâmetros físicos, domínio e malha, **criar generalização do número de camadas** (`layers`) e construir o perfil **n(x)** com gráfico e *prints* de conferência."
      ],
      "metadata": {
        "id": "8CUP1bi_ZGkO"
      }
    },
    {
      "cell_type": "code",
      "source": [
        "# =============================\n",
        "# BLOCO A - PRÉ-PROCESSAMENTO (Python/Colab)\n",
        "# Objetivo: definir parâmetros, malha e perfil n(x) GENERALIZADO (N camadas)\n",
        "# =============================\n",
        "import numpy as np\n",
        "import matplotlib.pyplot as plt\n",
        "%matplotlib inline\n",
        "\n",
        "def info(msg: str):\n",
        "    print(f\"[INFO] {msg}\")\n",
        "\n",
        "# --- Parâmetros físicos ---\n",
        "lambda0 = 1.55e-6   # [m]\n",
        "k0 = 2*np.pi/lambda0\n",
        "\n",
        "# --- Caso simétrico (pág. 15 do slide) como EXEMPLO padrão ---\n",
        "n1, n2, n3 = 3.55, 3.60, 3.55  # n2 = núcleo; n1=n3 = cascas\n",
        "w_core = 0.5e-6                # [m] largura do núcleo (ajustável)\n",
        "\n",
        "# --- Malha/Janela ---\n",
        "x_span = (-2.0e-6, 2.0e-6)     # [m]\n",
        "Nx = 1200                      # nº de pontos\n",
        "x = np.linspace(x_span[0], x_span[1], Nx)\n",
        "dx = x[1] - x[0]\n",
        "\n",
        "# --- Camadas GENERALIZADAS: lista de dicts [x_ini, x_fim, n] (adiciona-se quantas quiser) ---\n",
        "x0, x1 = -w_core/2, w_core/2\n",
        "layers = [\n",
        "    {\"x_ini\": x_span[0], \"x_fim\": x0, \"n\": n1},  # cladding esquerdo\n",
        "    {\"x_ini\": x0,         \"x_fim\": x1, \"n\": n2},  # núcleo\n",
        "    {\"x_ini\": x1,         \"x_fim\": x_span[1], \"n\": n3},  # cladding direito\n",
        "]\n",
        "# Exemplo de mais camadas (comente/descomente e ajusta-se):\n",
        "# layers = [\n",
        "#     {\"x_ini\": x_span[0], \"x_fim\": -1.2e-6, \"n\": 3.40},\n",
        "#     {\"x_ini\": -1.2e-6,   \"x_fim\": x0,      \"n\": 3.55},\n",
        "#     {\"x_ini\": x0,        \"x_fim\": x1,      \"n\": 3.60},\n",
        "#     {\"x_ini\": x1,        \"x_fim\": 1.2e-6,  \"n\": 3.55},\n",
        "#     {\"x_ini\": 1.2e-6,    \"x_fim\": x_span[1], \"n\": 3.40},\n",
        "# ]\n",
        "\n",
        "def build_index_profile(x, layers):\n",
        "    \"\"\"Gera n(x) e n^2(x) para qualquer quantidade de camadas.\"\"\"\n",
        "    n = np.zeros_like(x)\n",
        "    for L in layers:\n",
        "        mask = (x >= L[\"x_ini\"]) & (x < L[\"x_fim\"])  # intervalo semifechado\n",
        "        n[mask] = L[\"n\"]\n",
        "    n[-1] = layers[-1][\"n\"]  # garante o último ponto\n",
        "    return n, n**2\n",
        "\n",
        "n_profile, n2_profile = build_index_profile(x, layers)\n",
        "\n",
        "# --- PRINTS do Bloco A ---\n",
        "n_core = np.max(n_profile)\n",
        "n_clad_edges = min(n_profile[0], n_profile[-1])\n",
        "info(f\"lambda0 = {lambda0:.3e} m | k0 = {k0:.3e} 1/m\")\n",
        "info(f\"Nx = {Nx} | dx = {dx:.3e} m | dominio = [{x[0]:.2e}, {x[-1]:.2e}] m\")\n",
        "info(f\"n_core = {n_core:.4f} | n_clad_edges = {n_clad_edges:.4f}\")\n",
        "info(\"Camadas (N=%d): %s\" % (len(layers),\n",
        "     \", \".join([f\"[{L['x_ini']:.2e},{L['x_fim']:.2e}]->n={L['n']:.3f}\" for L in layers])))\n",
        "\n",
        "# --- PLOT ilustrativo do Bloco A ---\n",
        "plt.figure(figsize=(7.5,3.5))\n",
        "plt.plot(x*1e6, n_profile)\n",
        "plt.xlabel('x [µm]'); plt.ylabel('n (x)')\n",
        "plt.title('Bloco A - Perfil de índice de refração n(x) [generalizado]')\n",
        "plt.grid(True, alpha=0.3)\n",
        "plt.show()\n",
        "\n",
        "\n",
        "# =============================\n",
        "# BLOCO B — MONTAGEM MATRICIAL\n",
        "# Montar, a partir da discretização, as matrizes do problema modal (operador e termos do meio),\n",
        "# realizar checagens básicas e incluir visualizações auxiliares conforme a atividade.\n",
        "\n",
        "\n",
        "# -----------------------------\n",
        "# BLOCO C — SOLUÇÃO E ANÁLISE\n",
        "# Resolver o problema modal (autovalores/autovetores) conforme a formulação dos slides,\n",
        "# identificar os modos físicos, normalizar e apresentar gráficos ilustrativos dos resultados.\n",
        "# ============================="
      ],
      "metadata": {
        "colab": {
          "base_uri": "https://localhost:8080/",
          "height": 441
        },
        "id": "tPFtHimmW3h8",
        "outputId": "3d160ac0-606f-46e6-94a1-0fc506319d69"
      },
      "execution_count": 7,
      "outputs": [
        {
          "output_type": "stream",
          "name": "stdout",
          "text": [
            "[INFO] lambda0 = 1.550e-06 m | k0 = 4.054e+06 1/m\n",
            "[INFO] Nx = 1200 | dx = 3.336e-09 m | dominio = [-2.00e-06, 2.00e-06] m\n",
            "[INFO] n_core = 3.6000 | n_clad_edges = 3.5500\n",
            "[INFO] Camadas (N=3): [-2.00e-06,-2.50e-07]->n=3.550, [-2.50e-07,2.50e-07]->n=3.600, [2.50e-07,2.00e-06]->n=3.550\n"
          ]
        },
        {
          "output_type": "display_data",
          "data": {
            "text/plain": [
              "<Figure size 750x350 with 1 Axes>"
            ],
            "image/png": "[encoded data removed]"
          },
          "metadata": {}
        }
      ]
    },
    {
      "cell_type": "markdown",
      "source": [
        "## Referências:\n",
        "\n",
        "1. Okamoto, K. — *Fundamentals of Optical Waveguides* (2ª ed., Academic Press, 2006).  \n",
        "   PDF: [https://github.com/thallescotta/fotonica-computacional-uff-2025-2/blob/main/%5BKatsunari_Okamoto%5D_Fundamentals_of_optical_waveguide.pdf](https://github.com/thallescotta/fotonica-computacional-uff-2025-2/blob/main/%5BKatsunari_Okamoto%5D_Fundamentals_of_optical_waveguide.pdf)\n",
        "\n",
        "2. **modesolverpy** — Photonic mode solver em **Python** (SciPy/Matplotlib), com diversos exemplos práticos de solução modal.  \n",
        "   GitHub: [https://github.com/jtambasco/modesolverpy](https://github.com/jtambasco/modesolverpy)\n"
      ],
      "metadata": {
        "id": "pUMzOrPng5oO"
      }
    }
  ]
}